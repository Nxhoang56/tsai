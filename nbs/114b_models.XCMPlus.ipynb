{
  "cells": [
    {
      "cell_type": "code",
      "execution_count": null,
      "metadata": {
        "id": "Xi_gyMSvbz6q"
      },
      "outputs": [],
      "source": [
        "# default_exp models.XCMPlus"
      ]
    },
    {
      "cell_type": "markdown",
      "metadata": {
        "id": "YhvI2k9nbz6w"
      },
      "source": [
        "# XCM (An Explainable Convolutional Neural Network for Multivariate Time Series Classification)\n",
        "\n",
        "> This is an unofficial PyTorch implementation by Ignacio Oguiza of  - oguiza@gmail.com based on Temporal Convolutional Network (Bai, 2018).\n",
        "\n",
        "**References:**\n",
        "\n",
        "* Fauvel, K., Lin, T., Masson, V., Fromont, É., & Termier, A. (2020). XCM: An Explainable Convolutional Neural Network for Multivariate Time Series Classification. arXiv preprint arXiv:2009.04796.\n",
        "* Official XCM PyTorch implementation: not available as of Nov 27th, 2020"
      ]
    },
    {
      "cell_type": "code",
      "execution_count": null,
      "metadata": {
        "id": "zPDgtNu4bz60"
      },
      "outputs": [],
      "source": [
        "#export\n",
        "from tsai.imports import *\n",
        "from tsai.utils import *\n",
        "from tsai.models.layers import *\n",
        "from tsai.models.utils import *\n",
        "from tsai.models.explainability import *"
      ]
    },
    {
      "cell_type": "code",
      "execution_count": null,
      "metadata": {
        "id": "oIXWobAhbz62"
      },
      "outputs": [],
      "source": [
        "#export\n",
        "# This is an unofficial PyTorch implementation by Ignacio Oguiza - oguiza@gmail.com based on:\n",
        "\n",
        "# Fauvel, K., Lin, T., Masson, V., Fromont, É., & Termier, A. (2020). XCM: An Explainable Convolutional Neural Network for\n",
        "# Multivariate Time Series Classification. arXiv preprint arXiv:2009.04796.\n",
        "# Official XCM PyTorch implementation: not available as of Nov 27th, 2020\n",
        "\n",
        "class XCMPlus(nn.Sequential):\n",
        "    def __init__(self, c_in:int, c_out:int, seq_len:Optional[int]=None, nf:int=128, window_perc:float=1., flatten:bool=False, custom_head:callable=None, \n",
        "                 concat_pool:bool=False, fc_dropout:float=0., bn:bool=False, y_range:tuple=None, **kwargs):\n",
        "        \n",
        "        window_size = int(round(seq_len * window_perc, 0))\n",
        "        \n",
        "        backbone = _XCMPlus_Backbone(c_in, c_out, seq_len=seq_len, nf=nf, window_perc=window_perc)\n",
        "            \n",
        "        self.head_nf = nf\n",
        "        self.c_out = c_out\n",
        "        self.seq_len = seq_len\n",
        "        if custom_head: head = custom_head(self.head_nf, c_out, seq_len, **kwargs)\n",
        "        else: head = self.create_head(self.head_nf, c_out, seq_len, flatten=flatten, concat_pool=concat_pool, \n",
        "                                           fc_dropout=fc_dropout, bn=bn, y_range=y_range)\n",
        "        \n",
        "        super().__init__(OrderedDict([('backbone', backbone), ('head', head)]))\n",
        "\n",
        "        \n",
        "    def create_head(self, nf, c_out, seq_len=None, flatten=False, concat_pool=False, fc_dropout=0., bn=False, y_range=None):\n",
        "        if flatten: \n",
        "            nf *= seq_len\n",
        "            layers = [Flatten()]\n",
        "        else: \n",
        "            if concat_pool: nf *= 2\n",
        "            layers = [GACP1d(1) if concat_pool else GAP1d(1)]\n",
        "        layers += [LinBnDrop(nf, c_out, bn=bn, p=fc_dropout)]\n",
        "        if y_range: layers += [SigmoidRange(*y_range)]\n",
        "        return nn.Sequential(*layers)\n",
        "    \n",
        "    \n",
        "    def show_gradcam(self, x, y=None, detach=True, cpu=True, apply_relu=True, cmap='inferno', figsize=None, **kwargs):\n",
        "        \n",
        "        att_maps = get_attribution_map(self, [self.backbone.conv2dblock, self.backbone.conv1dblock], x, y=y, detach=detach, cpu=cpu, apply_relu=apply_relu)\n",
        "        att_maps[0] = (att_maps[0] - att_maps[0].min()) / (att_maps[0].max() - att_maps[0].min())\n",
        "        att_maps[1] = (att_maps[1] - att_maps[1].min()) / (att_maps[1].max() - att_maps[1].min())\n",
        "\n",
        "        figsize = ifnone(figsize, (10, 10))\n",
        "        fig = plt.figure(figsize=figsize, **kwargs)\n",
        "        ax = plt.axes()\n",
        "        plt.title('Observed variables')\n",
        "        im = ax.imshow(att_maps[0], cmap=cmap)\n",
        "        cax = fig.add_axes([ax.get_position().x1+0.01,ax.get_position().y0,0.02,ax.get_position().height])\n",
        "        plt.colorbar(im, cax=cax)\n",
        "        plt.show()\n",
        "\n",
        "        fig = plt.figure(figsize=figsize, **kwargs)\n",
        "        ax = plt.axes()\n",
        "        plt.title('Time')\n",
        "        im = ax.imshow(att_maps[1], cmap=cmap)\n",
        "        cax = fig.add_axes([ax.get_position().x1+0.01,ax.get_position().y0,0.02,ax.get_position().height])\n",
        "        plt.colorbar(im, cax=cax)\n",
        "        plt.show()\n",
        "        \n",
        "        \n",
        "class _XCMPlus_Backbone(Module):\n",
        "    def __init__(self, c_in:int, c_out:int, seq_len:Optional[int]=None, nf:int=128, window_perc:float=1.):\n",
        "        \n",
        "        window_size = int(round(seq_len * window_perc, 0))\n",
        "        self.conv2dblock = nn.Sequential(*[Unsqueeze(1), Conv2d(1, nf, kernel_size=(1, window_size), padding='same'), BatchNorm(nf), nn.ReLU()])\n",
        "        self.conv2d1x1block = nn.Sequential(*[nn.Conv2d(nf, 1, kernel_size=1), nn.ReLU(), Squeeze(1)])\n",
        "        self.conv1dblock = nn.Sequential(*[Conv1d(c_in, nf, kernel_size=window_size, padding='same'), BatchNorm(nf, ndim=1), nn.ReLU()])\n",
        "        self.conv1d1x1block = nn.Sequential(*[nn.Conv1d(nf, 1, kernel_size=1), nn.ReLU()])\n",
        "        self.concat = Concat()\n",
        "        self.conv1d = nn.Sequential(*[Conv1d(c_in + 1, nf, kernel_size=window_size, padding='same'), BatchNorm(nf, ndim=1), nn.ReLU()])\n",
        "            \n",
        "    def forward(self, x):\n",
        "        x1 = self.conv2dblock(x)\n",
        "        x1 = self.conv2d1x1block(x1)\n",
        "        x2 = self.conv1dblock(x)\n",
        "        x2 = self.conv1d1x1block(x2)\n",
        "        out = self.concat((x2, x1))\n",
        "        out = self.conv1d(out)\n",
        "        return out"
      ]
    },
    {
      "cell_type": "code",
      "execution_count": null,
      "metadata": {
        "id": "AfoLMjMxbz67",
        "outputId": "068f9958-3af3-44e6-ec46-c6d1f79feed0"
      },
      "outputs": [
        {
          "data": {
            "text/plain": [
              "XCMPlus(\n",
              "  (backbone): _XCMPlus_Backbone(\n",
              "    (conv2dblock): Sequential(\n",
              "      (0): Unsqueeze(dim=1)\n",
              "      (1): Conv2dSame(\n",
              "        (conv2d_same): Conv2d(1, 128, kernel_size=(1, 51), stride=(1, 1))\n",
              "      )\n",
              "      (2): BatchNorm2d(128, eps=1e-05, momentum=0.1, affine=True, track_running_stats=True)\n",
              "      (3): ReLU()\n",
              "    )\n",
              "    (conv2d1x1block): Sequential(\n",
              "      (0): Conv2d(128, 1, kernel_size=(1, 1), stride=(1, 1))\n",
              "      (1): ReLU()\n",
              "      (2): Squeeze(dim=1)\n",
              "    )\n",
              "    (conv1dblock): Sequential(\n",
              "      (0): Conv1d(24, 128, kernel_size=(51,), stride=(1,), padding=(25,))\n",
              "      (1): BatchNorm1d(128, eps=1e-05, momentum=0.1, affine=True, track_running_stats=True)\n",
              "      (2): ReLU()\n",
              "    )\n",
              "    (conv1d1x1block): Sequential(\n",
              "      (0): Conv1d(128, 1, kernel_size=(1,), stride=(1,))\n",
              "      (1): ReLU()\n",
              "    )\n",
              "    (concat): Concat(dim=1)\n",
              "    (conv1d): Sequential(\n",
              "      (0): Conv1d(25, 128, kernel_size=(51,), stride=(1,), padding=(25,))\n",
              "      (1): BatchNorm1d(128, eps=1e-05, momentum=0.1, affine=True, track_running_stats=True)\n",
              "      (2): ReLU()\n",
              "    )\n",
              "  )\n",
              "  (head): Sequential(\n",
              "    (0): GAP1d(\n",
              "      (gap): AdaptiveAvgPool1d(output_size=1)\n",
              "      (flatten): Flatten(full=False)\n",
              "    )\n",
              "    (1): LinBnDrop(\n",
              "      (0): Linear(in_features=128, out_features=6, bias=True)\n",
              "    )\n",
              "  )\n",
              ")"
            ]
          },
          "execution_count": null,
          "metadata": {},
          "output_type": "execute_result"
        }
      ],
      "source": [
        "from tsai.data.all import *\n",
        "from tsai.models.XCM import *\n",
        "\n",
        "dsid = 'NATOPS'\n",
        "X, y, splits = get_UCR_data(dsid, split_data=False)\n",
        "tfms = [None, Categorize()]\n",
        "dls = get_ts_dls(X, y, splits=splits, tfms=tfms)\n",
        "model =  XCMPlus(dls.vars, dls.c, dls.len)\n",
        "learn = Learner(dls, model, metrics=accuracy)\n",
        "xb, yb = dls.one_batch()\n",
        "\n",
        "bs, c_in, seq_len = xb.shape\n",
        "c_out = len(np.unique(yb.cpu().numpy()))\n",
        "\n",
        "model = XCMPlus(c_in, c_out, seq_len, fc_dropout=.5)\n",
        "test_eq(model.to(xb.device)(xb).shape, (bs, c_out))\n",
        "model = XCMPlus(c_in, c_out, seq_len, concat_pool=True)\n",
        "test_eq(model.to(xb.device)(xb).shape, (bs, c_out))\n",
        "model = XCMPlus(c_in, c_out, seq_len)\n",
        "test_eq(model.to(xb.device)(xb).shape, (bs, c_out))\n",
        "test_eq(count_parameters(XCMPlus(c_in, c_out, seq_len)), count_parameters(XCM(c_in, c_out, seq_len)))\n",
        "model"
      ]
    },
    {
      "cell_type": "code",
      "execution_count": null,
      "metadata": {
        "id": "9IYD6krCbz69",
        "outputId": "301a0690-794b-4f4b-cd60-99616c209275"
      },
      "outputs": [
        {
          "name": "stderr",
          "output_type": "stream",
          "text": [
            "/Users/nacho/opt/anaconda3/envs/py36/lib/python3.6/site-packages/torch/nn/modules/module.py:974: UserWarning: Using a non-full backward hook when the forward contains multiple autograd Nodes is deprecated and will be removed in future versions. This hook will be missing some grad_input. Please use register_full_backward_hook to get the documented behavior.\n",
            "  warnings.warn(\"Using a non-full backward hook when the forward contains multiple autograd Nodes \"\n"
          ]
        },
        {
          "data": {
            "image/png": "[encoded data removed]",
            "text/plain": [
              "<Figure size 720x720 with 2 Axes>"
            ]
          },
          "metadata": {
            "needs_background": "light"
          },
          "output_type": "display_data"
        },
        {
          "data": {
            "image/png": "[encoded data removed]",
            "text/plain": [
              "<Figure size 720x720 with 2 Axes>"
            ]
          },
          "metadata": {
            "needs_background": "light"
          },
          "output_type": "display_data"
        }
      ],
      "source": [
        "model.show_gradcam(xb[0], yb[0])"
      ]
    },
    {
      "cell_type": "code",
      "execution_count": null,
      "metadata": {
        "id": "GTMxg3DZbz6-",
        "outputId": "c3e50b28-3ce4-41cb-c77f-3b2b8b752896"
      },
      "outputs": [
        {
          "name": "stdout",
          "output_type": "stream",
          "text": [
            "torch.Size([16, 5, 2])\n"
          ]
        },
        {
          "data": {
            "text/plain": [
              "create_conv_lin_nd_head(\n",
              "  (0): Conv1d(128, 1, kernel_size=(1,), stride=(1,))\n",
              "  (1): Linear(in_features=12, out_features=10, bias=True)\n",
              "  (2): Transpose(-1, -2)\n",
              "  (3): Reshape(bs, 5, 2)\n",
              ")"
            ]
          },
          "execution_count": null,
          "metadata": {},
          "output_type": "execute_result"
        }
      ],
      "source": [
        "bs = 16\n",
        "n_vars = 3\n",
        "seq_len = 12\n",
        "c_out = 1\n",
        "xb = torch.rand(bs, n_vars, seq_len)\n",
        "new_head = partial(conv_lin_nd_head, d=(5, 2))\n",
        "net = XCMPlus(n_vars, c_out, seq_len, custom_head=new_head)\n",
        "print(net.to(xb.device)(xb).shape)\n",
        "net.head"
      ]
    },
    {
      "cell_type": "code",
      "execution_count": null,
      "metadata": {
        "id": "8VHVvECHbz7A",
        "outputId": "82f07bf2-69cc-4a77-ec2f-505aee1cae27"
      },
      "outputs": [
        {
          "name": "stdout",
          "output_type": "stream",
          "text": [
            "torch.Size([16, 2])\n"
          ]
        },
        {
          "data": {
            "text/plain": [
              "Sequential(\n",
              "  (0): AdaptiveAvgPool1d(output_size=1)\n",
              "  (1): Flatten(full=False)\n",
              "  (2): BatchNorm1d(128, eps=1e-05, momentum=0.1, affine=True, track_running_stats=True)\n",
              "  (3): Linear(in_features=128, out_features=512, bias=False)\n",
              "  (4): ReLU(inplace=True)\n",
              "  (5): BatchNorm1d(512, eps=1e-05, momentum=0.1, affine=True, track_running_stats=True)\n",
              "  (6): Linear(in_features=512, out_features=2, bias=False)\n",
              ")"
            ]
          },
          "execution_count": null,
          "metadata": {},
          "output_type": "execute_result"
        }
      ],
      "source": [
        "bs = 16\n",
        "n_vars = 3\n",
        "seq_len = 12\n",
        "c_out = 2\n",
        "xb = torch.rand(bs, n_vars, seq_len)\n",
        "net = XCMPlus(n_vars, c_out, seq_len)\n",
        "change_model_head(net, create_pool_plus_head, concat_pool=False)\n",
        "print(net.to(xb.device)(xb).shape)\n",
        "net.head"
      ]
    },
    {
      "cell_type": "code",
      "execution_count": null,
      "metadata": {
        "id": "E9eZOrslbz7B"
      },
      "outputs": [],
      "source": [
        "#hide\n",
        "from tsai.imports import create_scripts\n",
        "from tsai.export import get_nb_name\n",
        "nb_name = get_nb_name()\n",
        "create_scripts(nb_name);"
      ]
    },
    {
      "cell_type": "code",
      "execution_count": null,
      "metadata": {
        "id": "o8iL54yvbz7C"
      },
      "outputs": [],
      "source": [
        ""
      ]
    }
  ],
  "metadata": {
    "kernelspec": {
      "display_name": "Python 3",
      "language": "python",
      "name": "python3"
    },
    "colab": {
      "name": "114b_models.XCMPlus.ipynb",
      "provenance": []
    }
  },
  "nbformat": 4,
  "nbformat_minor": 0
}